{
 "cells": [
  {
   "cell_type": "code",
   "id": "77e8dd05-6cec-471c-b3b6-f59abcebc35f",
   "metadata": {
    "ExecuteTime": {
     "end_time": "2024-12-20T08:32:40.598933Z",
     "start_time": "2024-12-20T08:32:36.790011Z"
    }
   },
   "source": [
    "import tensorflow as tf\n",
    "\n",
    "print(\"CuDNN version:\", tf.sysconfig.get_build_info())"
   ],
   "outputs": [
    {
     "name": "stdout",
     "output_type": "stream",
     "text": [
      "CuDNN version: OrderedDict([('is_cuda_build', False), ('is_rocm_build', False), ('is_tensorrt_build', False)])\n"
     ]
    }
   ],
   "execution_count": 1
  },
  {
   "cell_type": "code",
   "id": "35bb7aa0-c0d4-4e5c-b7b6-0bfc37352c1d",
   "metadata": {
    "ExecuteTime": {
     "end_time": "2024-12-20T08:32:40.639906Z",
     "start_time": "2024-12-20T08:32:40.628487Z"
    }
   },
   "source": [
    "import tensorflow as tf\n",
    "\n",
    "print(\"Num GPUs Available: \", len(tf.config.experimental.list_physical_devices('GPU')))"
   ],
   "outputs": [
    {
     "name": "stdout",
     "output_type": "stream",
     "text": [
      "Num GPUs Available:  0\n"
     ]
    }
   ],
   "execution_count": 2
  },
  {
   "cell_type": "code",
   "id": "856882ad-b957-4012-9217-8b4a0b54593e",
   "metadata": {
    "ExecuteTime": {
     "end_time": "2024-12-20T08:32:40.875738Z",
     "start_time": "2024-12-20T08:32:40.657539Z"
    }
   },
   "source": [
    "from tensorflow.keras.datasets import mnist\n",
    "\n",
    "(train_images, train_labels), (test_images, test_labels) = mnist.load_data()"
   ],
   "outputs": [],
   "execution_count": 3
  },
  {
   "cell_type": "code",
   "id": "f6049d96-3499-4b19-9e86-0ce3c059c9ef",
   "metadata": {
    "ExecuteTime": {
     "end_time": "2024-12-20T08:32:40.985324Z",
     "start_time": "2024-12-20T08:32:40.978858Z"
    }
   },
   "source": [
    "train_images.shape"
   ],
   "outputs": [
    {
     "data": {
      "text/plain": [
       "(60000, 28, 28)"
      ]
     },
     "execution_count": 4,
     "metadata": {},
     "output_type": "execute_result"
    }
   ],
   "execution_count": 4
  },
  {
   "cell_type": "code",
   "id": "3c9c575f-92c9-403d-88c9-fb0166ee2ca5",
   "metadata": {
    "ExecuteTime": {
     "end_time": "2024-12-20T08:32:41.038772Z",
     "start_time": "2024-12-20T08:32:41.033792Z"
    }
   },
   "source": [
    "len(test_labels)"
   ],
   "outputs": [
    {
     "data": {
      "text/plain": [
       "10000"
      ]
     },
     "execution_count": 5,
     "metadata": {},
     "output_type": "execute_result"
    }
   ],
   "execution_count": 5
  },
  {
   "cell_type": "code",
   "id": "efa321cd-4fbd-4dc6-8ae4-fce1ca502206",
   "metadata": {
    "ExecuteTime": {
     "end_time": "2024-12-20T08:32:41.065218Z",
     "start_time": "2024-12-20T08:32:41.057431Z"
    }
   },
   "source": [
    "train_labels"
   ],
   "outputs": [
    {
     "data": {
      "text/plain": [
       "array([5, 0, 4, ..., 5, 6, 8], dtype=uint8)"
      ]
     },
     "execution_count": 6,
     "metadata": {},
     "output_type": "execute_result"
    }
   ],
   "execution_count": 6
  },
  {
   "cell_type": "code",
   "id": "71a67e6f-33fc-4dc2-8ed2-bfa1e92e2814",
   "metadata": {
    "ExecuteTime": {
     "end_time": "2024-12-20T08:32:41.104433Z",
     "start_time": "2024-12-20T08:32:41.095079Z"
    }
   },
   "source": [
    "test_images.shape"
   ],
   "outputs": [
    {
     "data": {
      "text/plain": [
       "(10000, 28, 28)"
      ]
     },
     "execution_count": 7,
     "metadata": {},
     "output_type": "execute_result"
    }
   ],
   "execution_count": 7
  },
  {
   "cell_type": "code",
   "id": "840f58f0-71fa-4206-b9dc-9e6fbe19de05",
   "metadata": {
    "ExecuteTime": {
     "end_time": "2024-12-20T08:32:41.123888Z",
     "start_time": "2024-12-20T08:32:41.116108Z"
    }
   },
   "source": [
    "len(test_labels)"
   ],
   "outputs": [
    {
     "data": {
      "text/plain": [
       "10000"
      ]
     },
     "execution_count": 8,
     "metadata": {},
     "output_type": "execute_result"
    }
   ],
   "execution_count": 8
  },
  {
   "cell_type": "code",
   "id": "85b84295-328a-4846-9b1c-575aaa423e29",
   "metadata": {
    "ExecuteTime": {
     "end_time": "2024-12-20T08:32:41.154679Z",
     "start_time": "2024-12-20T08:32:41.139572Z"
    }
   },
   "source": [
    "test_labels"
   ],
   "outputs": [
    {
     "data": {
      "text/plain": [
       "array([7, 2, 1, ..., 4, 5, 6], dtype=uint8)"
      ]
     },
     "execution_count": 9,
     "metadata": {},
     "output_type": "execute_result"
    }
   ],
   "execution_count": 9
  },
  {
   "cell_type": "code",
   "id": "157f19fe-e782-42e3-bf1b-2c4c5719b79e",
   "metadata": {
    "ExecuteTime": {
     "end_time": "2024-12-20T08:32:41.184734Z",
     "start_time": "2024-12-20T08:32:41.175678Z"
    }
   },
   "source": [
    "from tensorflow import keras\n",
    "from tensorflow.keras import layers\n",
    "\n",
    "model = keras.Sequential([\n",
    "    layers.Dense(512, activation=\"relu\"),\n",
    "    layers.Dense(10, activation=\"softmax\")\n",
    "])"
   ],
   "outputs": [],
   "execution_count": 10
  },
  {
   "cell_type": "code",
   "id": "d65551c5-db38-4816-8737-bcad98182e15",
   "metadata": {
    "scrolled": true,
    "ExecuteTime": {
     "end_time": "2024-12-20T08:32:41.226067Z",
     "start_time": "2024-12-20T08:32:41.199207Z"
    }
   },
   "source": [
    "model.compile(optimizer=\"rmsprop\",\n",
    "              loss=\"sparse_categorical_crossentropy\",\n",
    "              metrics=[\"accuracy\"])"
   ],
   "outputs": [],
   "execution_count": 11
  },
  {
   "cell_type": "code",
   "id": "a3704ac7-5501-4dcd-94d7-ae009b655738",
   "metadata": {
    "ExecuteTime": {
     "end_time": "2024-12-20T08:32:41.309448Z",
     "start_time": "2024-12-20T08:32:41.243989Z"
    }
   },
   "source": [
    "train_images = train_images.reshape((60000, 28 * 28))  # Convert 2D (28 * 28) to 1D vector (28 * 28 = 764)\n",
    "train_images = train_images.astype(\n",
    "    \"float32\") / 255  # We’ll transform it into a float32 array of shape (60000, 28 * 28) with values between 0 and 1."
   ],
   "outputs": [],
   "execution_count": 12
  },
  {
   "cell_type": "code",
   "id": "e05bd9f1-4206-47fa-b9dc-2d2ea82f14fa",
   "metadata": {
    "ExecuteTime": {
     "end_time": "2024-12-20T08:32:41.368214Z",
     "start_time": "2024-12-20T08:32:41.341782Z"
    }
   },
   "source": [
    "test_images = test_images.reshape((10000, 28 * 28))\n",
    "test_images = test_images.astype(\"float\") / 255"
   ],
   "outputs": [],
   "execution_count": 13
  },
  {
   "cell_type": "code",
   "id": "725397b4-b95a-4c4a-8323-6acf2f83da81",
   "metadata": {
    "ExecuteTime": {
     "end_time": "2024-12-20T08:33:00.790361Z",
     "start_time": "2024-12-20T08:32:41.379444Z"
    }
   },
   "source": [
    "model.fit(train_images, train_labels, epochs=5, batch_size=128)"
   ],
   "outputs": [
    {
     "name": "stdout",
     "output_type": "stream",
     "text": [
      "Epoch 1/5\n",
      "\u001B[1m469/469\u001B[0m \u001B[32m━━━━━━━━━━━━━━━━━━━━\u001B[0m\u001B[37m\u001B[0m \u001B[1m4s\u001B[0m 7ms/step - accuracy: 0.8710 - loss: 0.4356\n",
      "Epoch 2/5\n",
      "\u001B[1m469/469\u001B[0m \u001B[32m━━━━━━━━━━━━━━━━━━━━\u001B[0m\u001B[37m\u001B[0m \u001B[1m3s\u001B[0m 7ms/step - accuracy: 0.9660 - loss: 0.1179\n",
      "Epoch 3/5\n",
      "\u001B[1m469/469\u001B[0m \u001B[32m━━━━━━━━━━━━━━━━━━━━\u001B[0m\u001B[37m\u001B[0m \u001B[1m5s\u001B[0m 7ms/step - accuracy: 0.9789 - loss: 0.0719\n",
      "Epoch 4/5\n",
      "\u001B[1m469/469\u001B[0m \u001B[32m━━━━━━━━━━━━━━━━━━━━\u001B[0m\u001B[37m\u001B[0m \u001B[1m3s\u001B[0m 7ms/step - accuracy: 0.9850 - loss: 0.0503\n",
      "Epoch 5/5\n",
      "\u001B[1m469/469\u001B[0m \u001B[32m━━━━━━━━━━━━━━━━━━━━\u001B[0m\u001B[37m\u001B[0m \u001B[1m3s\u001B[0m 7ms/step - accuracy: 0.9890 - loss: 0.0379\n"
     ]
    },
    {
     "data": {
      "text/plain": [
       "<keras.src.callbacks.history.History at 0x175ee4190>"
      ]
     },
     "execution_count": 14,
     "metadata": {},
     "output_type": "execute_result"
    }
   ],
   "execution_count": 14
  },
  {
   "cell_type": "code",
   "id": "c4cb2cab-104f-4c85-8445-065921832bea",
   "metadata": {
    "ExecuteTime": {
     "end_time": "2024-12-20T08:33:00.914697Z",
     "start_time": "2024-12-20T08:33:00.907332Z"
    }
   },
   "source": [
    "test_digits = test_images[0:10]"
   ],
   "outputs": [],
   "execution_count": 15
  },
  {
   "cell_type": "code",
   "id": "33f0c8ee-85ed-499b-8e1c-453e76e83455",
   "metadata": {
    "ExecuteTime": {
     "end_time": "2024-12-20T08:33:01.034336Z",
     "start_time": "2024-12-20T08:33:00.955339Z"
    }
   },
   "source": [
    "predictions = model.predict(test_digits)"
   ],
   "outputs": [
    {
     "name": "stdout",
     "output_type": "stream",
     "text": [
      "\u001B[1m1/1\u001B[0m \u001B[32m━━━━━━━━━━━━━━━━━━━━\u001B[0m\u001B[37m\u001B[0m \u001B[1m0s\u001B[0m 38ms/step\n"
     ]
    }
   ],
   "execution_count": 16
  },
  {
   "cell_type": "code",
   "id": "bdc421a1-8fea-4d5a-9c0b-0485a14bd0cf",
   "metadata": {
    "ExecuteTime": {
     "end_time": "2024-12-20T08:33:01.139171Z",
     "start_time": "2024-12-20T08:33:01.132374Z"
    }
   },
   "source": [
    "predictions[0]"
   ],
   "outputs": [
    {
     "data": {
      "text/plain": [
       "array([1.0733961e-07, 2.9962351e-08, 4.3116947e-06, 2.8915124e-04,\n",
       "       9.5556452e-10, 7.0570749e-08, 6.5121362e-13, 9.9969661e-01,\n",
       "       8.6406021e-07, 8.8864790e-06], dtype=float32)"
      ]
     },
     "execution_count": 17,
     "metadata": {},
     "output_type": "execute_result"
    }
   ],
   "execution_count": 17
  },
  {
   "cell_type": "code",
   "id": "879613bd-08ae-4c97-8fb0-766ff57a5597",
   "metadata": {
    "ExecuteTime": {
     "end_time": "2024-12-20T08:33:01.249590Z",
     "start_time": "2024-12-20T08:33:01.241148Z"
    }
   },
   "source": [
    "predictions[0].argmax()"
   ],
   "outputs": [
    {
     "data": {
      "text/plain": [
       "7"
      ]
     },
     "execution_count": 18,
     "metadata": {},
     "output_type": "execute_result"
    }
   ],
   "execution_count": 18
  },
  {
   "cell_type": "code",
   "id": "f2d577f5-9424-478d-853a-c9316c5735b4",
   "metadata": {
    "ExecuteTime": {
     "end_time": "2024-12-20T08:33:01.335707Z",
     "start_time": "2024-12-20T08:33:01.330189Z"
    }
   },
   "source": [
    "predictions[0][7]"
   ],
   "outputs": [
    {
     "data": {
      "text/plain": [
       "0.9996966"
      ]
     },
     "execution_count": 19,
     "metadata": {},
     "output_type": "execute_result"
    }
   ],
   "execution_count": 19
  },
  {
   "cell_type": "code",
   "id": "78f78a4c-a1c0-4b4f-8240-232ae0bb6c6c",
   "metadata": {
    "ExecuteTime": {
     "end_time": "2024-12-20T08:33:01.465692Z",
     "start_time": "2024-12-20T08:33:01.457399Z"
    }
   },
   "source": [
    "test_labels[0]"
   ],
   "outputs": [
    {
     "data": {
      "text/plain": [
       "7"
      ]
     },
     "execution_count": 20,
     "metadata": {},
     "output_type": "execute_result"
    }
   ],
   "execution_count": 20
  },
  {
   "cell_type": "code",
   "id": "49cdbc34-a76f-40ec-b073-90e92d16f5e5",
   "metadata": {
    "ExecuteTime": {
     "end_time": "2024-12-20T08:33:02.559028Z",
     "start_time": "2024-12-20T08:33:01.511377Z"
    }
   },
   "source": [
    "test_loss, test_acc = model.evaluate(test_images, test_labels)\n",
    "print(f\"test_acc: {test_acc}\")"
   ],
   "outputs": [
    {
     "name": "stdout",
     "output_type": "stream",
     "text": [
      "\u001B[1m313/313\u001B[0m \u001B[32m━━━━━━━━━━━━━━━━━━━━\u001B[0m\u001B[37m\u001B[0m \u001B[1m1s\u001B[0m 3ms/step - accuracy: 0.9761 - loss: 0.0746\n",
      "test_acc: 0.9797000288963318\n"
     ]
    }
   ],
   "execution_count": 21
  },
  {
   "cell_type": "code",
   "id": "8f296787-ba37-45c3-b745-2b4e397cd6a8",
   "metadata": {
    "ExecuteTime": {
     "end_time": "2024-12-20T08:33:02.576655Z",
     "start_time": "2024-12-20T08:33:02.573880Z"
    }
   },
   "source": [],
   "outputs": [],
   "execution_count": null
  }
 ],
 "metadata": {
  "kernelspec": {
   "display_name": "Python 3 (ipykernel)",
   "language": "python",
   "name": "python3"
  },
  "language_info": {
   "codemirror_mode": {
    "name": "ipython",
    "version": 3
   },
   "file_extension": ".py",
   "mimetype": "text/x-python",
   "name": "python",
   "nbconvert_exporter": "python",
   "pygments_lexer": "ipython3",
   "version": "3.10.12"
  }
 },
 "nbformat": 4,
 "nbformat_minor": 5
}
