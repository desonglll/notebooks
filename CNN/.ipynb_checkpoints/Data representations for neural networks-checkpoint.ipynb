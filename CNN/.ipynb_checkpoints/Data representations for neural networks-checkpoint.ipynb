{
 "cells": [
  {
   "cell_type": "markdown",
   "id": "e99c8e0d-7343-4cb0-9fbc-9efb19acd9a4",
   "metadata": {},
   "source": [
    "## Scalars(rank-0 tensors)"
   ]
  },
  {
   "cell_type": "code",
   "execution_count": 1,
   "id": "4ffe6ece-e8fb-47a4-a733-d9b6b268f9bc",
   "metadata": {},
   "outputs": [],
   "source": [
    "import numpy as np"
   ]
  },
  {
   "cell_type": "code",
   "execution_count": 2,
   "id": "d33913b8-2d84-4712-bf2f-fd18c5fa2564",
   "metadata": {},
   "outputs": [],
   "source": [
    "x = np.array(12)"
   ]
  },
  {
   "cell_type": "code",
   "execution_count": 3,
   "id": "eb839a37-abb2-467b-9326-897dc308cc21",
   "metadata": {},
   "outputs": [
    {
     "data": {
      "text/plain": [
       "array(12)"
      ]
     },
     "execution_count": 3,
     "metadata": {},
     "output_type": "execute_result"
    }
   ],
   "source": [
    "x"
   ]
  },
  {
   "cell_type": "code",
   "execution_count": 4,
   "id": "dab05820-2e72-440f-834a-3b006173a89b",
   "metadata": {},
   "outputs": [
    {
     "data": {
      "text/plain": [
       "0"
      ]
     },
     "execution_count": 4,
     "metadata": {},
     "output_type": "execute_result"
    }
   ],
   "source": [
    "x.ndim"
   ]
  },
  {
   "cell_type": "markdown",
   "id": "da2d83cc-af4c-430d-8564-7311e58f203b",
   "metadata": {},
   "source": [
    "## Vectors(rank-1 tensors)"
   ]
  },
  {
   "cell_type": "code",
   "execution_count": 5,
   "id": "e2e94eb0-d7f1-4973-bca8-9fdc20e216a6",
   "metadata": {},
   "outputs": [],
   "source": [
    "x = np.array([12, 3, 6, 14, 7])"
   ]
  },
  {
   "cell_type": "code",
   "execution_count": 6,
   "id": "e1411d28-43dd-4b36-a465-c508c8d6d84e",
   "metadata": {},
   "outputs": [
    {
     "data": {
      "text/plain": [
       "array([12,  3,  6, 14,  7])"
      ]
     },
     "execution_count": 6,
     "metadata": {},
     "output_type": "execute_result"
    }
   ],
   "source": [
    "x"
   ]
  },
  {
   "cell_type": "code",
   "execution_count": 7,
   "id": "5668ad04-e451-491a-95bd-7cb3268110ac",
   "metadata": {},
   "outputs": [
    {
     "data": {
      "text/plain": [
       "1"
      ]
     },
     "execution_count": 7,
     "metadata": {},
     "output_type": "execute_result"
    }
   ],
   "source": [
    "x.ndim"
   ]
  },
  {
   "cell_type": "markdown",
   "id": "0ab6918a-4828-4fb2-a8ed-dd49dee8cce3",
   "metadata": {},
   "source": [
    "## Matrices(rank-2 tensors)"
   ]
  },
  {
   "cell_type": "code",
   "execution_count": 8,
   "id": "e613f7b5-71b3-4667-941c-e95fe69981b9",
   "metadata": {},
   "outputs": [],
   "source": [
    "x = np.array([[5, 78, 2, 34, 0],\n",
    "              [6, 79, 3, 35, 1],\n",
    "              [7, 80, 4, 36, 2]])"
   ]
  },
  {
   "cell_type": "code",
   "execution_count": 9,
   "id": "2fe29ec6-e6a2-4ebc-8e52-0fe2613454c8",
   "metadata": {},
   "outputs": [
    {
     "data": {
      "text/plain": [
       "2"
      ]
     },
     "execution_count": 9,
     "metadata": {},
     "output_type": "execute_result"
    }
   ],
   "source": [
    "x.ndim"
   ]
  },
  {
   "cell_type": "markdown",
   "id": "9a691b6d-ca55-4f9f-91f6-9d74a75f1c8d",
   "metadata": {},
   "source": [
    "## Rank-3 and higher-rank tensors"
   ]
  },
  {
   "cell_type": "code",
   "execution_count": 10,
   "id": "20d6b879-24a4-40d5-9089-d841ebbf3a7d",
   "metadata": {},
   "outputs": [],
   "source": [
    "x = np.array([[[5, 78, 2, 34, 0],\n",
    "               [6, 79, 3, 35, 1],\n",
    "               [7, 80, 4, 36, 2]],\n",
    "              [[5, 78, 2, 34, 0],\n",
    "               [6, 79, 3, 35, 1],\n",
    "               [7, 80, 4, 36, 2]],\n",
    "              [[5, 78, 2, 34, 0],\n",
    "               [6, 79, 3, 35, 1],\n",
    "               [7, 80, 4, 36, 2]]])"
   ]
  },
  {
   "cell_type": "code",
   "execution_count": 11,
   "id": "9ca07c28-9c28-4ac1-a9af-e94573d5e838",
   "metadata": {},
   "outputs": [
    {
     "data": {
      "text/plain": [
       "3"
      ]
     },
     "execution_count": 11,
     "metadata": {},
     "output_type": "execute_result"
    }
   ],
   "source": [
    "x.ndim"
   ]
  },
  {
   "cell_type": "code",
   "execution_count": null,
   "id": "204f2ef4-f3ef-4a1c-83d2-c93a42756029",
   "metadata": {},
   "outputs": [],
   "source": []
  }
 ],
 "metadata": {
  "kernelspec": {
   "display_name": "Python 3 (ipykernel)",
   "language": "python",
   "name": "python3"
  },
  "language_info": {
   "codemirror_mode": {
    "name": "ipython",
    "version": 3
   },
   "file_extension": ".py",
   "mimetype": "text/x-python",
   "name": "python",
   "nbconvert_exporter": "python",
   "pygments_lexer": "ipython3",
   "version": "3.10.12"
  }
 },
 "nbformat": 4,
 "nbformat_minor": 5
}
